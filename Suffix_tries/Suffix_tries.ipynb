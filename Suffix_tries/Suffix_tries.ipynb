{
 "cells": [
  {
   "cell_type": "markdown",
   "metadata": {},
   "source": [
    "# Algorytmy tekstowe"
   ]
  },
  {
   "cell_type": "code",
   "execution_count": 208,
   "metadata": {},
   "outputs": [],
   "source": [
    "from datetime import datetime\n",
    "import matplotlib.pyplot as plt"
   ]
  },
  {
   "cell_type": "markdown",
   "metadata": {},
   "source": [
    "# Dane wejściowe"
   ]
  },
  {
   "cell_type": "code",
   "execution_count": 186,
   "metadata": {},
   "outputs": [],
   "source": [
    "f = open(\"1997_714_head.txt\", \"r\", encoding=\"utf8\")\n",
    "text = f.read()\n",
    "f.close()\n",
    "\n",
    "arr = [\"bbbd\", \"aabbabd\", \"ababcd\", \"abcbccd\"]"
   ]
  },
  {
   "cell_type": "markdown",
   "metadata": {},
   "source": [
    "# Sprawdzenie markera"
   ]
  },
  {
   "cell_type": "code",
   "execution_count": 191,
   "metadata": {},
   "outputs": [],
   "source": [
    "def check_marker(text):\n",
    "    text = text.strip(\"\\n\\t\")\n",
    "    #text = text.replace(\"\\n\", \" \")\n",
    "    markers = {}\n",
    "    for i in range(len(text)):\n",
    "        if text[i] in markers:\n",
    "            markers[text[i]] += 1\n",
    "        else:\n",
    "            markers[text[i]] = 1\n",
    "\n",
    "    if markers[text[-1]] == 1:\n",
    "        return text\n",
    "\n",
    "    unique_chars = [\"$\", \"#\", \"@\", \"&\", \"*\", \"^\"]\n",
    "    special_char = \"\"\n",
    "    for unique_char in unique_chars:\n",
    "        if unique_char not in markers:\n",
    "            special_char = unique_char\n",
    "            break\n",
    "\n",
    "    tmp_text = list(text)\n",
    "    tmp_text.append(special_char)\n",
    "    text = \"\".join(tmp_text)\n",
    "    return text"
   ]
  },
  {
   "cell_type": "markdown",
   "metadata": {},
   "source": [
    "# Algorytm konstruujący strukturę trie suffiksów"
   ]
  },
  {
   "cell_type": "code",
   "execution_count": 136,
   "metadata": {},
   "outputs": [],
   "source": [
    "class Node:\n",
    "    def __init__(self, char=\"\", parent=None):\n",
    "        self.char = char\n",
    "        self.children = {}\n",
    "        self.parent = parent\n",
    "\n",
    "    def add_child(self, char):\n",
    "        self.children[char] = Node(char, parent=self)\n",
    "\n",
    "    def has_child(self, char):\n",
    "        if char in self.children:\n",
    "            return True\n",
    "        else:\n",
    "            return False\n",
    "\n",
    "    def get_child(self, char):\n",
    "        return self.children.get(char)\n",
    "\n",
    "\n",
    "class Trie:\n",
    "    def __init__(self, text):\n",
    "        self.root = Node()\n",
    "        self.insert(text)\n",
    "\n",
    "    def insert(self, word):\n",
    "        node = self.root\n",
    "        for i in range(len(word)):\n",
    "            for c in word[i:]:\n",
    "                if node.has_child(c):\n",
    "                    node = node.get_child(c)\n",
    "                else:\n",
    "                    node.add_child(c)\n",
    "                    node = node.get_child(c)\n",
    "            node = self.root\n",
    "\n",
    "    def find(self, word):\n",
    "        node = self.root\n",
    "        for c in word:\n",
    "            if node.has_child(c):\n",
    "                node = node.get_child(c)\n",
    "            else:\n",
    "                return False\n",
    "        return True"
   ]
  },
  {
   "cell_type": "markdown",
   "metadata": {},
   "source": [
    "# Algorytm konstruujący drzewo suffiksów"
   ]
  },
  {
   "cell_type": "code",
   "execution_count": 137,
   "metadata": {},
   "outputs": [],
   "source": [
    "class TreeNode:\n",
    "    def __init__(self, start=0, length=0, parent=None):\n",
    "        self.start = start\n",
    "        self.length = length\n",
    "        self.children = {}\n",
    "        self.parent = parent\n",
    "\n",
    "    def add_child(self, c, child):\n",
    "        child._set_parent(self)\n",
    "        self.children[c] = child\n",
    "\n",
    "    def has_child(self, c):\n",
    "        if c in self.children:\n",
    "            return True\n",
    "        else:\n",
    "            return False\n",
    "\n",
    "    def get_child(self, c):\n",
    "        return self.children.get(c)\n",
    "\n",
    "    def get_parent(self):\n",
    "        return self.parent\n",
    "\n",
    "    def get_length(self):\n",
    "        return self.length\n",
    "\n",
    "    def get_start(self):\n",
    "        return self.start\n",
    "\n",
    "    def _set_parent(self, parent):\n",
    "        self.parent = parent\n",
    "\n",
    "    def set_start(self, start):\n",
    "        self.start = start\n",
    "\n",
    "    def set_length(self, length):\n",
    "        self.length = length\n",
    "        \n",
    "\n",
    "class SuffixTree:\n",
    "    def __init__(self, text):\n",
    "        self.text = text\n",
    "        self.root = TreeNode()\n",
    "        self.create_tree()\n",
    "\n",
    "    def create_tree(self):\n",
    "        node = self.root\n",
    "        depth = 0\n",
    "        n = len(self.text)\n",
    "        for i in range(n):\n",
    "            k = 0 # matched suffix length\n",
    "            while i + depth < n and node.get_length() == depth and node.has_child(self.text[i + depth]):\n",
    "                node = node.get_child(self.text[i + depth])\n",
    "                depth = 1 # current node matched suffix length\n",
    "                k += 1\n",
    "                while i+depth<n and i+k<n and depth < node.get_length() and self.text[node.get_start() + depth] == self.text[\n",
    "                    i + k]:\n",
    "                    depth += 1\n",
    "                    k += 1\n",
    "\n",
    "            if node.get_length() > depth:\n",
    "                parent = node.get_parent()\n",
    "                new_node = TreeNode(node.get_start(), depth, parent) #Matched chars in current node\n",
    "                new_node.add_child(self.text[node.get_start() + depth], node)\n",
    "                node.set_start(node.get_start() + depth) #The remainder of the current node = node (node / new_node)\n",
    "                node.set_length(node.get_length() - depth)\n",
    "                parent.add_child(self.text[new_node.get_start()], new_node)\n",
    "                node = new_node\n",
    "            \n",
    "            # Unmatched suffix (text[i+k:])\n",
    "            leaf = TreeNode(start=i + k, length=n - i - k, parent=None)\n",
    "            node.add_child(self.text[leaf.get_start()], leaf)\n",
    "\n",
    "            node = self.root\n",
    "            depth = 0\n",
    "\n",
    "    def find(self, word):\n",
    "        node = self.root\n",
    "        i = 0\n",
    "        n = len(word)\n",
    "        while i < n:\n",
    "            if node.has_child(word[i]):\n",
    "                node = node.get_child(word[i])\n",
    "                if self.text[node.get_start():node.get_start() + node.get_length()] != word[i:(i + node.get_length())]:\n",
    "                    return False\n",
    "                i += node.get_length()\n",
    "            else:\n",
    "                return False\n",
    "        return True"
   ]
  },
  {
   "cell_type": "markdown",
   "metadata": {},
   "source": [
    "# Test poprawności"
   ]
  },
  {
   "cell_type": "code",
   "execution_count": 198,
   "metadata": {
    "scrolled": false
   },
   "outputs": [
    {
     "name": "stdout",
     "output_type": "stream",
     "text": [
      "bbbd\n",
      "aabbabd\n",
      "ababcd\n",
      "abcbccd\n",
      "Dz.U. z 1998 r. Nr 144, poz. 930\n",
      "                                       \n",
      "                                       \n",
      "                                       \n",
      "                                       \n",
      "                                    USTAWA\n",
      "                          z dnia 20 listopada 1998 r.\n",
      "                                       \n",
      "         o zryczałtowanym podatku dochodowym od niektórych przychodów\n",
      "                        osiąganych przez osoby fizyczne\n",
      "                                       \n",
      "                                  Rozdział 1\n",
      "                                Przepisy ogólne\n",
      "                                       \n",
      "                                    Art. 1.\n",
      "Ustawa reguluje opodatkowanie zryczałtowanym podatkiem dochodowym niektórych\n",
      "przychodów (dochodów) osiąganych przez osoby fizyczne prowadzące pozarolniczą\n",
      "działalność gospodarczą oraz przez osoby duchowne.\n",
      "                                       \n",
      "                                    Art. 2.\n",
      "1. Osoby fizyczne osiągające przychody z pozarolniczej działalności\n",
      "  gospodarczej opłacają zryczałtowany podatek dochodowy w formie:\n",
      "   1) ryczałtu od przychodów ewidencjonowanych,\n",
      "   2) karty podatkowej.\n",
      "2. Osoby duchowne, prawnie uznanych wyznań, opłacają zryczałtowany podatek\n",
      "  dochodowy od przychodów osób duchownych.\n",
      "3. Wpływy z podatku dochodowego opłacanego w formie ryczałtu od przychodów\n",
      "  ewidencjonowanych oraz zryczałtowanego podatku dochodowego od przychodów\n",
      "  osób duchownych stanowią dochód budżetu państwa.\n",
      "4. Wpływy z karty podatkowej stanowią dochody gmin.\n",
      "                                       \n",
      "                                    Art. 3.\n",
      "Przychodów (dochodów) opodatkowanych w formach zryczałtowanych nie łączy się z\n",
      "przychodami (dochodami) z innych źródeł podlegającymi opodatkowaniu na\n",
      "podstawie ustawy z dnia 26 lipca 1991 r. o podatku dochodowym od osób\n",
      "fizycznych (Dz. U. z 1993 r. Nr 90, poz. 416 i Nr 134, poz. 646, z 1994 r. Nr\n",
      "43, poz. 163, Nr 90, poz. 419, Nr 113, poz. 547, Nr 123, poz. 602 i Nr 126,\n",
      "poz. 626, z 1995 r. Nr 5, poz. 25 i Nr 133, poz. 654, z 1996 r. Nr 25, poz.\n",
      "113, Nr 87, poz. 395, Nr 137, poz. 638, Nr 147, poz. 686 i Nr 156, poz. 776, z\n",
      "1997 r. Nr 28, poz. 153, Nr 30, poz. 164, Nr 71, poz. 449, Nr 85, poz. 538, Nr\n",
      "96, poz. 592, Nr 121, poz. 770, Nr 123, poz. 776, Nr 137, poz. 926, Nr 139,\n",
      "poz. 932-934 i Nr 141, poz. 943 i 945 oraz z 1998 r. Nr 66, poz. 430, Nr 74,\n",
      "poz. 471, Nr 108, poz. 685 i Nr 117, poz. 756), zwanej dalej \"ustawą o podatku\n",
      "dochodowym\".$\n"
     ]
    }
   ],
   "source": [
    "for elem in arr[:]: # [\"bbbd\", \"aabbabd\", \"ababcd\", \"abcbccd\", text]\n",
    "    elem = check_marker(elem)\n",
    "    print(elem)\n",
    "    trie = Trie(elem)\n",
    "    tree = SuffixTree(elem)\n",
    "    \n",
    "    for i in range(len(elem)):\n",
    "        suffix = elem[i:]\n",
    "        if trie.find(suffix) is False or tree.find(suffix) is False:\n",
    "            print(\"Failed\")\n",
    "\n",
    "            \n",
    "# Czasem nie działa dla całego tekstu ustawy\n",
    "elem = check_marker(text)\n",
    "n = len(elem)\n",
    "print(elem)\n",
    "trie = Trie(elem)\n",
    "tree = SuffixTree(elem)\n",
    "for i in range(n-30,n):\n",
    "    suffix = elem[i:]\n",
    "    if trie.find(suffix) is False or tree.find(suffix) is False:\n",
    "        print(\"Failed!\")"
   ]
  },
  {
   "cell_type": "markdown",
   "metadata": {},
   "source": [
    "# Time tests"
   ]
  },
  {
   "cell_type": "code",
   "execution_count": 215,
   "metadata": {},
   "outputs": [],
   "source": [
    "def trie_test(text):\n",
    "    start = datetime.now()\n",
    "    Trie(text)\n",
    "    return (datetime.now() - start).total_seconds()\n",
    "def tree_test(text):\n",
    "    start = datetime.now()\n",
    "    SuffixTree(text)\n",
    "    return (datetime.now() - start).total_seconds()"
   ]
  },
  {
   "cell_type": "code",
   "execution_count": 255,
   "metadata": {},
   "outputs": [],
   "source": [
    "trie_times = []\n",
    "tree_times = []\n",
    "for i in range(1600,len(text)):\n",
    "    trie_times.append(trie_test(text[i:]))\n",
    "    tree_times.append(trie_test(text[i:]))"
   ]
  },
  {
   "cell_type": "code",
   "execution_count": 256,
   "metadata": {},
   "outputs": [
    {
     "data": {
      "text/plain": [
       "Text(0, 0.5, 'Time [s]')"
      ]
     },
     "execution_count": 256,
     "metadata": {},
     "output_type": "execute_result"
    },
    {
     "data": {
      "image/png": "[encoded data removed]",
      "text/plain": [
       "<Figure size 1080x576 with 2 Axes>"
      ]
     },
     "metadata": {
      "needs_background": "light"
     },
     "output_type": "display_data"
    }
   ],
   "source": [
    "size = [i for i in range(0,len(text)-1600)]\n",
    "\n",
    "trie_times = trie_times[::-1]\n",
    "tree_times = tree_times[::-1]\n",
    "\n",
    "fig, ax = plt.subplots(1, 2, figsize=(15,8))\n",
    "fig.suptitle(\"Creation tree structure times\")\n",
    "ax[0].plot(size, trie_times, \"ro\")\n",
    "ax[0].set_title(\"Trie\")\n",
    "ax[0].set_xlabel(\"size of text\")\n",
    "ax[0].set_ylabel(\"Time [s]\")\n",
    "ax[1].plot(size, tree_times, \"ro\")\n",
    "ax[1].set_title(\"Suffix Tree\")\n",
    "ax[1].set_xlabel(\"size of text\")\n",
    "ax[1].set_ylabel(\"Time [s]\")\n"
   ]
  }
 ],
 "metadata": {
  "kernelspec": {
   "display_name": "Python 3",
   "language": "python",
   "name": "python3"
  },
  "language_info": {
   "codemirror_mode": {
    "name": "ipython",
    "version": 3
   },
   "file_extension": ".py",
   "mimetype": "text/x-python",
   "name": "python",
   "nbconvert_exporter": "python",
   "pygments_lexer": "ipython3",
   "version": "3.7.4"
  }
 },
 "nbformat": 4,
 "nbformat_minor": 4
}
